{
  "nbformat": 4,
  "nbformat_minor": 0,
  "metadata": {
    "colab": {
      "private_outputs": true,
      "provenance": [],
      "collapsed_sections": [],
      "authorship_tag": "ABX9TyO/uGhSdTOeEaE1DioNqp0N",
      "include_colab_link": true
    },
    "kernelspec": {
      "name": "python3",
      "display_name": "Python 3"
    },
    "language_info": {
      "name": "python"
    }
  },
  "cells": [
    {
      "cell_type": "markdown",
      "metadata": {
        "id": "view-in-github",
        "colab_type": "text"
      },
      "source": [
        "<a href=\"https://colab.research.google.com/github/pinemoon01/ITB-2022/blob/main/%EB%B0%95%EC%A7%80%ED%98%84_2016343_%EC%8B%9C%EA%B0%81%ED%99%94%EA%B3%BC%EC%A0%9C.ipynb\" target=\"_parent\"><img src=\"https://colab.research.google.com/assets/colab-badge.svg\" alt=\"Open In Colab\"/></a>"
      ]
    },
    {
      "cell_type": "markdown",
      "source": [
        "2016343 경영학과 박지현 시각화과제\n"
      ],
      "metadata": {
        "id": "iqfsg8nC4PDf"
      }
    },
    {
      "cell_type": "code",
      "execution_count": null,
      "metadata": {
        "id": "unWPQYrhu9NB"
      },
      "outputs": [],
      "source": [
        "%matplotlib inline\n",
        "import pandas as pd\n",
        "import seaborn as sns  \n",
        "import numpy as np\n",
        "import matplotlib.pyplot as plt"
      ]
    },
    {
      "cell_type": "code",
      "source": [
        "#마이너스 폰트가 깨지는 문제를 대처하기\n",
        "plt.rc(\"axes\", unicode_minus = False)"
      ],
      "metadata": {
        "id": "nUN6z6Q28gNF"
      },
      "execution_count": null,
      "outputs": []
    },
    {
      "cell_type": "code",
      "source": [
        "#한글폰트 설정\n",
        "\n",
        "!pip install koreanize-matplotlib\n",
        "import koreanize_matplotlib"
      ],
      "metadata": {
        "id": "MQGOX4-d8oY8"
      },
      "execution_count": null,
      "outputs": []
    },
    {
      "cell_type": "code",
      "source": [
        "from google.colab import drive\n",
        "drive.mount('/content/drive')"
      ],
      "metadata": {
        "id": "G_xbqzMiZ1Pr"
      },
      "execution_count": null,
      "outputs": []
    },
    {
      "cell_type": "code",
      "source": [
        "#csv 데이터 가져오기\n",
        "hd = pd.read_csv(\"/content/drive/My Drive/ITB/health_data.csv\", encoding='UTF-8')"
      ],
      "metadata": {
        "id": "sqeitf4dZ3-j"
      },
      "execution_count": null,
      "outputs": []
    },
    {
      "cell_type": "code",
      "source": [
        "#먼저 데이터에 대한 전반적인 정보를 확인합니다. \n",
        "display(hd.head())\n",
        "print(hd.info())"
      ],
      "metadata": {
        "id": "ZD_c4whD15jB"
      },
      "execution_count": null,
      "outputs": []
    },
    {
      "cell_type": "code",
      "source": [
        "#info로 데이터의 기본정보를 파악합니다  \n",
        "hd.info()"
      ],
      "metadata": {
        "id": "j6lvPZ_A5vzq"
      },
      "execution_count": null,
      "outputs": []
    },
    {
      "cell_type": "code",
      "source": [
        "#컬럼명만 모아서 데이터에 어떠한 컬럼이 있는지 파악합니다\n",
        "hd.columns"
      ],
      "metadata": {
        "id": "wkiUHW6m6HYl"
      },
      "execution_count": null,
      "outputs": []
    },
    {
      "cell_type": "code",
      "source": [
        "#각 컬럼별 데이터의 유형을 살펴봅니다 \n",
        "hd.dtypes"
      ],
      "metadata": {
        "id": "PMUGk7Wl6KKL"
      },
      "execution_count": null,
      "outputs": []
    },
    {
      "cell_type": "code",
      "source": [
        "#컬럼별 결측치 개수 세기\n",
        "\n",
        "hd.isnull().sum()"
      ],
      "metadata": {
        "id": "mp_ncY5B6N9o"
      },
      "execution_count": null,
      "outputs": []
    },
    {
      "cell_type": "code",
      "source": [
        "#컬럼별 결측치 시각화하기\n",
        "\n",
        "hd.isnull().sum().plot.barh(figsize = (7,9))"
      ],
      "metadata": {
        "id": "6n8s4w046UcW"
      },
      "execution_count": null,
      "outputs": []
    },
    {
      "cell_type": "markdown",
      "source": [
        "1. 막대그래프 시각화\n",
        "\n",
        "Q. 음주여부에 따른 감마지티피 수치가 다를까?\n",
        "\n",
        "\n",
        "\n",
        "\n",
        "저는 각각 성별의 음주여부에 따라서 감마지티피 수치에 차이가 있는지 분석을 하고 싶었습니다. 그래서 피벗테이블을 이용해서 남녀의 각각 음주여부에 따른 감마지티피 수치의 평균값을 구해서 막대그래프를 도출하였습니다. "
      ],
      "metadata": {
        "id": "cALBHt3QcWsU"
      }
    },
    {
      "cell_type": "code",
      "source": [
        "#male 과 female 데이터 세기 \n",
        "hd.groupby([\"성별코드\"]).mean()"
      ],
      "metadata": {
        "id": "UIa8NLPW9vYr"
      },
      "execution_count": null,
      "outputs": []
    },
    {
      "cell_type": "code",
      "source": [
        "hd.groupby([\"성별코드\"]).count()"
      ],
      "metadata": {
        "id": "x6uJrU3u_tpZ"
      },
      "execution_count": null,
      "outputs": []
    },
    {
      "cell_type": "code",
      "source": [
        "hd.groupby([\"성별코드\", \"음주여부\"])[\"가입자일련번호\"].count()\n",
        "#성별에 따른 음주상태를 알아봤는데 남자가 음주하는 경우가 더 많고,여자는 음주를 하지 않는 경우가 더 많습니다. "
      ],
      "metadata": {
        "id": "4wC9Hvt7_2Ro"
      },
      "execution_count": null,
      "outputs": []
    },
    {
      "cell_type": "code",
      "source": [
        "#저는 이 수치를 데이터에 있는 감마지티피, 즉 간수치에 관련된 데이터와 연관이 있다고 생각했습니다.\n",
        "\n",
        "hd.groupby([\"성별코드\", \"음주여부\"])[\"감마지티피\"].describe()"
      ],
      "metadata": {
        "id": "dwubZiIf_8LS"
      },
      "execution_count": null,
      "outputs": []
    },
    {
      "cell_type": "code",
      "source": [
        "hd.pivot"
      ],
      "metadata": {
        "id": "dbJ65iRqBGcG"
      },
      "execution_count": null,
      "outputs": []
    },
    {
      "cell_type": "code",
      "source": [
        "#먼저 성별에 대한 가입자일련번호 수치를 세어본다 (피벗테이블 이용)\n",
        "hd.pivot_table(index=\"성별코드\", values=\"가입자일련번호\", aggfunc=\"count\")\n",
        "\n",
        "#결과에서 남자가 여자보다 더 많은 수치를 보이고 있습니다. "
      ],
      "metadata": {
        "id": "cw8sXpUMBMHD"
      },
      "execution_count": null,
      "outputs": []
    },
    {
      "cell_type": "code",
      "source": [
        "hd.pivot_table(index = \"음주여부\", values = \"가입자일련번호\", aggfunc = \"count\")\n",
        "\n",
        "#음주를 하는 사람이 더 많은 것을 알 수 있습니다. "
      ],
      "metadata": {
        "id": "jPzovkKSBYwb"
      },
      "execution_count": null,
      "outputs": []
    },
    {
      "cell_type": "code",
      "source": [
        "#평균값 구하기\n",
        "pd.pivot_table(hd, index=\"음주여부\", values=\"감마지티피\")\n",
        "\n",
        "#음주를 하는 사람이 음주를 안하는 사람보다 감마지티피 수치가 더 높게 드러나고 있습니다. "
      ],
      "metadata": {
        "id": "mcTtsd5sDaA0"
      },
      "execution_count": null,
      "outputs": []
    },
    {
      "cell_type": "code",
      "source": [
        "#데이터를 대표하는 값으로 mean값과 median값을 사용합니다.\n",
        "pd.pivot_table(hd, index=\"음주여부\", values=\"감마지티피\", aggfunc=[\"mean\", \"median\"])\n",
        "#음주를 하는 사람과 안하는 사람의 감마지티피의 mean값과 median값을 구해줍니다. "
      ],
      "metadata": {
        "id": "63udFNPSDShm"
      },
      "execution_count": null,
      "outputs": []
    },
    {
      "cell_type": "code",
      "source": [
        "pd.pivot_table(hd, index=\"음주여부\", values=\"감마지티피\", aggfunc=\"describe\")\n",
        "\n"
      ],
      "metadata": {
        "id": "vrr4s8nTD423"
      },
      "execution_count": null,
      "outputs": []
    },
    {
      "cell_type": "code",
      "source": [
        "pd.pivot_table(hd, index=[\"음주여부\", \"성별코드\"], values=\"감마지티피\", aggfunc=\"describe\")"
      ],
      "metadata": {
        "id": "mpyZt7kCDScC"
      },
      "execution_count": null,
      "outputs": []
    },
    {
      "cell_type": "code",
      "source": [
        "df_pivot_table = hd.pivot_table(values = \"감마지티피\", index = \"성별코드\", columns = \"음주여부\", aggfunc = 'mean').fillna(0)\n",
        "df_pivot_table.plot.bar()\n",
        "plt.show()"
      ],
      "metadata": {
        "id": "FVYVAl0wEENP"
      },
      "execution_count": null,
      "outputs": []
    },
    {
      "cell_type": "markdown",
      "source": [
        "첫번째 시각화는 바로 성별코드(female,male)의 음주여부에 따른 감마지티피 수치를 분석한 막대그래프입니다. 성별에 따른 음주상태를 알아봤는데 남자(M)가 음주하는 경우가 더 많고,여자(F)는 음주를 하지 않는 경우가 더 많습니다. 그리고 음주를 하는 남자의 감마지티피 수치가 평균 56으로 확연히 높은 수치를 드러내고 있습니다. 음주를 많이 할수록 감마지티피 수치가 높다는 것은 간질환이 의심되므로 음주를 하는 남자는 간의 건강에 주의를 해야하는 상황입니다.\n",
        "시각화 과정은 피벗테이블을 이용하여 성별코드를 index에, 음주여부를 columns에 할당해서 각 남녀에 따른 감마지티피의 평균 수치를 aggfunc에 할당해서 구했습니다. 남자와 여자, 그리고 음주를 한다, 아니다 와 같이 두데이터씩 비교를 하기 용이한 막대그래프를 활용하였습니다. \n"
      ],
      "metadata": {
        "id": "wQyyZffWFWZK"
      }
    },
    {
      "cell_type": "markdown",
      "source": [
        "2. 선그래프 시각화\n",
        "\n",
        "Q. 흡연상태와 음주여부에 따라서 연령대별로 체중에 변화가 있을까?\n",
        "\n",
        "\n",
        "\n",
        "\n",
        "그 다음 시각화로는 연령대별로 흡연상태와 음주여부에 따라서 체중의 변화를 분석하고 싶었습니다. 그래서 선그래프를 이용해서 x축에 연령대코드 컬럼의 데이터를 할당하고, y축에는 체중 데이터를 할당하였습니다. hue인자를 설정해서 색상으로 범주를 표현하였습니다. 첫번째 선그래프는 파란색이 흡연을 안하는사람, 주황색이 흡연을 하는 사람, 초록색이 흡연을 했다가 끊은 사람으로 범주를 나누었고, 두번째 선그래프는 파란색이 음주를 안하는사람, 주황색이 음주를 하는 사람으로 나누었습니다. "
      ],
      "metadata": {
        "id": "NiKxEI-_eOAc"
      }
    },
    {
      "cell_type": "code",
      "source": [
        "#두번째 선그래프 \n",
        "plt.figure(figsize = (15,4))\n",
        "sns.lineplot(data = hd, x = \"연령대코드(5세단위)\", y = \"체중(5Kg 단위)\", hue = \"흡연상태\", ci = None)"
      ],
      "metadata": {
        "id": "ByyqJwzYLonI"
      },
      "execution_count": null,
      "outputs": []
    },
    {
      "cell_type": "markdown",
      "source": [
        "이 선그래프는 연령대의 흡연상태에 따른 체중의 상관관계를 보여주는 선그래프입니다. 흡연을 하는 80~84세의 연령대의 사람들의 체중이 60kg에서  45kg로 감소하는 특징이 있습니다. 그리고 흡연을 안하거나 피웠다 끊은 사람들은 큰 감소 없이 감소하는 특징을 보여주고 있습니다. 흡연을 안하는 사람은 흡연을 하는 사람과 피웠다 끊은 사람보다 변화가 제일 적은 그래프를 보여주고 있습니다. 담배의 주성분인 니코틴은 체중 감소와 관련 있습니다. 비만을 치료하는 항비만 치료제는 대부분 교감신경 자극제인데, 니코틴도 교감신경을 자극합니다.자극 받은 교감신경은 도파민, 세레토닌, 노르에피네프린(노르아드레날린), 에피네프린(아드레날린) 등과 같은 다양한 신경전달물질 분비를 증가시킵니다. 이 물질들은 뇌와 지방세포 등에 영향을 주는데, 기초대사율을 높이고 지방조직의 열발생을 증가시켜 에너지소비를 증가시키고, 식욕을 떨어뜨립니다. 그래서 흡연을 하는 사람의 그래프가 제일 큰 변화를 보이고 있습니다.\n"
      ],
      "metadata": {
        "id": "XzAqF74YNbjg"
      }
    },
    {
      "cell_type": "code",
      "source": [
        "plt.figure(figsize = (15,4))\n",
        "sns.lineplot(data = hd, x = \"연령대코드(5세단위)\", y = \"체중(5Kg 단위)\", hue = \"음주여부\", ci = None)"
      ],
      "metadata": {
        "id": "_hvaCYrzffvM"
      },
      "execution_count": null,
      "outputs": []
    },
    {
      "cell_type": "markdown",
      "source": [
        "이 선그래프는 5세 단위로 끊어진 연령대별로 음주여부에 따라서 체중의 변화를 보여주는 그래프입니다. 음주를 안하는 사람이 음주를 하는 사람보다 체중이 더 감소하는 변화를 보이고 있습니다. 그리고 연령대코드 17, 즉 80~84세인 사람이 56키로에서 51키로로 감소하는 변화를 보이고 있습니다. 실제로 주 2회 이상 술을 마시는 남성의 1년뒤 체중 증가 가능성은 2.6배에 달하기 때문에 음주를 하는 사람의 체중변화가 비교적 적은 추세를 보이는 것입니다"
      ],
      "metadata": {
        "id": "0JsuIa9op1s4"
      }
    },
    {
      "cell_type": "markdown",
      "source": [
        "3. 산점도 시각화\n",
        "\n",
        "Q. HDL콜레스테롤과 LDL콜레스테롤 수치가 음주여부와 체중에 따라서 어떤 변화가 있을까? 에 대한 분석입니다. \n",
        "\n",
        "\n",
        "\n",
        "먼저 음주여부에 대한 산점도 그래프를 도출하고 그 다음 체중에 따른 변화를 추가하여 결과를 도출하였습니다. 이 시각화를 한 이유는 적당한 음주는 유익한 콜레스테롤이라고 불리는 HDL 콜레스테롤을 증가시켜 고혈압이나 동맥경화와 같은 심혈관질환 위험을 낮추는 것으로 알려져 있습니다. 반면에 음주 양 자체가 고혈압이나 뇌졸중, 암 발생에 영향을 미치며 체중증가에 영향을 미칩니다. 즉, LDL 콜레스테롤 혈증도 증가하며 건강에 치명적인 영향을 미치게 됩니다. 저는 실제 건강검진 결과도 이 사실과 일치한지 알아내고 싶었습니다. "
      ],
      "metadata": {
        "id": "Cj8GWCGyx4_I"
      }
    },
    {
      "cell_type": "code",
      "source": [
        "sns.scatterplot(data= hd, x=\"HDL콜레스테롤\", y=\"LDL콜레스테롤\")"
      ],
      "metadata": {
        "id": "CNT3erOvalBb"
      },
      "execution_count": null,
      "outputs": []
    },
    {
      "cell_type": "code",
      "source": [
        "sns.scatterplot(data= hd, x=\"HDL콜레스테롤\", y=\"LDL콜레스테롤\", hue = \"음주여부\")"
      ],
      "metadata": {
        "id": "ZjNku1GVg65h"
      },
      "execution_count": null,
      "outputs": []
    },
    {
      "cell_type": "code",
      "source": [
        "plt.figure(figsize=(8, 7))\n",
        "sns.scatterplot(data= hd, x=\"HDL콜레스테롤\", y=\"LDL콜레스테롤\", hue=\"음주여부\", size=\"체중(5Kg 단위)\")"
      ],
      "metadata": {
        "id": "d2gUqDoJhw1e"
      },
      "execution_count": null,
      "outputs": []
    },
    {
      "cell_type": "markdown",
      "source": [
        "먼저 음주를 안하는 사람이 음주를 하는 사람보다 유익한 콜레스테롤인 HDL콜레스테롤에서 더 높은 수치를 보이고 있습니다. 120에 밀집되어있으며 LDL콜레스테롤 수치보다 더 높은 수치를 보이고 있습니다. 반면에 음주를 하는 사람은 음주를 안하는 사람보다 LDL 콜레스테롤을 더 많이 갖고 있습니다. 300이라는 높은 수치에 음주를 안하는 사람의 데이터가 있는 결과를 도출하였습니다. 결론적으로 실제 사실과 도출된 결과가 일치하다는 것을 알 수 있었습니다 "
      ],
      "metadata": {
        "id": "5nD6MfVg3A6_"
      }
    }
  ]
}