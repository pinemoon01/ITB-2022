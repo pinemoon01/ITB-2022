{
  "nbformat": 4,
  "nbformat_minor": 0,
  "metadata": {
    "colab": {
      "private_outputs": true,
      "provenance": [],
      "authorship_tag": "ABX9TyN+ZNa5FoaAQ2VVGc2BzjDw",
      "include_colab_link": true
    },
    "kernelspec": {
      "name": "python3",
      "display_name": "Python 3"
    },
    "language_info": {
      "name": "python"
    }
  },
  "cells": [
    {
      "cell_type": "markdown",
      "metadata": {
        "id": "view-in-github",
        "colab_type": "text"
      },
      "source": [
        "<a href=\"https://colab.research.google.com/github/pinemoon01/ITB-2022/blob/main/2016343_%EB%B0%95%EC%A7%80%ED%98%84_%EB%B6%84%EB%A5%98%EA%B3%BC%EC%A0%9C.ipynb\" target=\"_parent\"><img src=\"https://colab.research.google.com/assets/colab-badge.svg\" alt=\"Open In Colab\"/></a>"
      ]
    },
    {
      "cell_type": "code",
      "execution_count": null,
      "metadata": {
        "id": "dVCXn3M3YWOP"
      },
      "outputs": [],
      "source": [
        "%matplotlib inline\n",
        "import pandas as pd\n",
        "import seaborn as sns           # Seaborn 로딩하기\n",
        "import matplotlib.pyplot as plt # Matplotlib의 pyplot 로딩하기"
      ]
    },
    {
      "cell_type": "code",
      "source": [
        "from google.colab import drive\n",
        "drive.mount('/content/drive')"
      ],
      "metadata": {
        "id": "XhFc2ML5YmPp"
      },
      "execution_count": null,
      "outputs": []
    },
    {
      "cell_type": "code",
      "source": [
        "#마이너스 폰트가 깨지는 문제를 대처하기\n",
        "plt.rc(\"axes\", unicode_minus = False)"
      ],
      "metadata": {
        "id": "YIHOKxICYswV"
      },
      "execution_count": null,
      "outputs": []
    },
    {
      "cell_type": "code",
      "source": [
        "#한글폰트 설정\n",
        "\n",
        "!pip install koreanize-matplotlib\n",
        "import koreanize_matplotlib"
      ],
      "metadata": {
        "id": "YbJX9jSybdMx"
      },
      "execution_count": null,
      "outputs": []
    },
    {
      "cell_type": "code",
      "source": [
        "#csv 데이터 가져오기\n",
        "hd = pd.read_csv(\"/content/drive/My Drive/ITB/health_data.csv\", encoding='UTF-8')"
      ],
      "metadata": {
        "id": "Y4iQxQbJbi7N"
      },
      "execution_count": null,
      "outputs": []
    },
    {
      "cell_type": "code",
      "source": [
        "#먼저 데이터에 대한 전반적인 정보를 확인합니다. \n",
        "display(hd.head())\n",
        "print(hd.info())"
      ],
      "metadata": {
        "id": "6rW-5jVObouq"
      },
      "execution_count": null,
      "outputs": []
    },
    {
      "cell_type": "code",
      "source": [
        "hd.describe()"
      ],
      "metadata": {
        "id": "lEBRTczTfbOP"
      },
      "execution_count": null,
      "outputs": []
    },
    {
      "cell_type": "code",
      "source": [
        "# 의사결정나무 만드는 과정\n",
        "!pip install mglearn  \n"
      ],
      "metadata": {
        "id": "P0qhAqczfqW9"
      },
      "execution_count": null,
      "outputs": []
    },
    {
      "cell_type": "code",
      "source": [
        "import mglearn"
      ],
      "metadata": {
        "id": "QlwqsC03kLlF"
      },
      "execution_count": null,
      "outputs": []
    },
    {
      "cell_type": "code",
      "source": [
        "!pip install --upgrade joblib==1.1.0"
      ],
      "metadata": {
        "id": "me0KlUOIhVbU"
      },
      "execution_count": null,
      "outputs": []
    },
    {
      "cell_type": "code",
      "source": [
        "from sklearn.tree import DecisionTreeClassifier\n",
        "from sklearn.model_selection import train_test_split"
      ],
      "metadata": {
        "id": "JnzmPNI1hhaA"
      },
      "execution_count": null,
      "outputs": []
    },
    {
      "cell_type": "code",
      "source": [
        "hd2 = hd.dropna()"
      ],
      "metadata": {
        "id": "fhjFBJpeiM0K"
      },
      "execution_count": null,
      "outputs": []
    },
    {
      "cell_type": "markdown",
      "source": [
        "의사결정나무\n",
        "독립변수는 X에 해당하는 변수들로 설정하였고\n",
        "종속변수는 음주변수로 설정하였습니다. 음주여부에 따라서 체중, 허리둘레 그리고 수축기혈압의 변화를 분석하고 싶었습니다.\n"
      ],
      "metadata": {
        "id": "hOk7L-f1mE51"
      }
    },
    {
      "cell_type": "code",
      "source": [
        "X = hd2[['체중(5Kg 단위)','허리둘레','수축기혈압','음주여부']]\n",
        "y = hd2['음주여부']\n",
        "\n",
        "print(X.head())\n",
        "print(y.head())"
      ],
      "metadata": {
        "id": "33OoOFbchkx9"
      },
      "execution_count": null,
      "outputs": []
    },
    {
      "cell_type": "code",
      "source": [
        "#결측치 모두 제거\n",
        "\n",
        "X_drop_row = X.dropna(axis = 0)\n",
        "print(\"결측치 모두 제거:\",X_drop_row.shape)"
      ],
      "metadata": {
        "id": "1tNSzAkTeJgc"
      },
      "execution_count": null,
      "outputs": []
    },
    {
      "cell_type": "code",
      "source": [
        "X = X_drop_row.iloc[:,0:2]\n",
        "y = X_drop_row[\"음주여부\"]\n",
        "\n",
        "X_train, X_test, y_train, y_test = train_test_split(X, y, test_size = 0.25, random_state=42)\n",
        "tree = DecisionTreeClassifier(random_state=0)  \n",
        "tree.fit(X_train, y_train)\n",
        "print(\"학습용 데이터 정확도: {:.3f}\".format(tree.score(X_train, y_train)))\n",
        "print(\"시험용 데이터 정확도: {:.3f}\".format(tree.score(X_test, y_test)))\n",
        "\n"
      ],
      "metadata": {
        "id": "vd0pPFOkeVGR"
      },
      "execution_count": null,
      "outputs": []
    },
    {
      "cell_type": "code",
      "source": [
        "tree = DecisionTreeClassifier(max_depth = 4, random_state=0)  \n",
        "tree.fit(X_train, y_train)\n",
        "print(\"학습용 데이터 정확도: {:.3f}\".format(tree.score(X_train, y_train)))\n",
        "print(\"시험용 데이터 정확도: {:.3f}\".format(tree.score(X_test, y_test)))\n",
        "\n"
      ],
      "metadata": {
        "id": "oVp1tifWgOxA"
      },
      "execution_count": null,
      "outputs": []
    },
    {
      "cell_type": "code",
      "source": [
        "#의사결정나무\n",
        "from sklearn.tree import export_graphviz\n",
        "import graphviz\n",
        "\n",
        "export_graphviz(tree, out_file=\"tree.dot\", class_names= [\"No\",\"Yes\"], feature_names= X_train.columns, impurity=False, filled=True)\n",
        "\n",
        "with open(\"tree.dot\") as f:\n",
        "    dot_graph = f.read()\n",
        "\n",
        "display(graphviz.Source(dot_graph))"
      ],
      "metadata": {
        "id": "hcX6Gj6ngaUb"
      },
      "execution_count": null,
      "outputs": []
    },
    {
      "cell_type": "code",
      "source": [
        "#앙상블 모델\n",
        "#랜덤 포레스트"
      ],
      "metadata": {
        "id": "0WP18m69gTqt"
      },
      "execution_count": null,
      "outputs": []
    },
    {
      "cell_type": "code",
      "source": [
        "from sklearn.ensemble import RandomForestClassifier\n",
        "\n",
        "# radius_mean, texture_mean 변수만 이용하여 \n",
        "# 5개의 나무를 만드는 예 (n_estimators = 5, 실제는 수백개의 트리를 만든다)\n",
        "forest = RandomForestClassifier(n_estimators=5, random_state=2)\n",
        "forest.fit(X_train.iloc[:, 0:2], y_train)\n",
        "\n",
        "# 5개 나무 각각의 분류 경계를 그림 (서로 모양이 많이 다르다)\n",
        "# 2차원으로 나무의 결과를 보여주기 위한 코드로 mglearn의 함수들을 이용 - 여기서는 설명 생략\n",
        "fig, axes = plt.subplots(2, 3, figsize=(20, 10))\n",
        "for i, (ax, tree) in enumerate(zip(axes.ravel(), forest.estimators_)):\n",
        "    ax.set_title(\"Tree {}\".format(i))\n",
        "    mglearn.plots.plot_tree_partition(X.iloc[:, 0:2].values, y, tree, ax=ax)\n",
        "    \n",
        "mglearn.plots.plot_2d_separator(forest, X.iloc[:, 0:2].values, fill=True, ax=axes[-1, -1], alpha=.4)\n",
        "axes[-1, -1].set_title(\"Random forest\")\n",
        "mglearn.discrete_scatter(X.iloc[:, 0], X.iloc[:, 1], y)\n",
        "plt.show()"
      ],
      "metadata": {
        "id": "SkhgSnOvjoZt"
      },
      "execution_count": null,
      "outputs": []
    },
    {
      "cell_type": "code",
      "source": [
        "forest = RandomForestClassifier(n_estimators=100, random_state=0)\n",
        "forest.fit(X_train, y_train)\n",
        "\n",
        "print(\"학습용 데이터 세트 정확도: {:.3f}\".format(forest.score(X_train, y_train)))\n",
        "print(\"시험용 데이터 세트 정확도: {:.3f}\".format(forest.score(X_test, y_test)))"
      ],
      "metadata": {
        "id": "9F9CUm1_kRaV"
      },
      "execution_count": null,
      "outputs": []
    },
    {
      "cell_type": "code",
      "source": [
        "#랜덤포레스트와 의사결정나무 비교\n",
        "from sklearn.model_selection import cross_val_score\n",
        "\n",
        "# 교차 검증을 10번 수행하여 10번의 교차 검증 평균 정확도를 비교 (10-fold cross validation)\n",
        "# default cv=5\n",
        "\n",
        "dt_scores = cross_val_score(tree, X_train, y_train, cv=10, scoring='accuracy')  \n",
        "rf_scores = cross_val_score(forest, X_train, y_train, cv=10, scoring='accuracy')\n",
        "#cv가 교차검증 \n",
        "\n",
        "print(\"Accuracy\")\n",
        "print(\"Decision tree: \", dt_scores) \n",
        "print(\"Random forest: \", rf_scores) \n",
        "\n",
        "print(\"Accuracy mean\")\n",
        "print(\"Decision tree :{:.3f}\".format(dt_scores.mean())) \n",
        "print(\"Random forest :{:.3f}\".format(rf_scores.mean())) "
      ],
      "metadata": {
        "id": "MCWR9pTfm0QG"
      },
      "execution_count": null,
      "outputs": []
    },
    {
      "cell_type": "code",
      "source": [
        "cv_list = [    \n",
        "            ['decision_tree',dt_scores],\n",
        "            ['random_forest',rf_scores],\n",
        "          ]\n",
        "df = pd.DataFrame.from_dict(dict(cv_list))\n",
        "df.plot()"
      ],
      "metadata": {
        "id": "a62EVyiwm3m9"
      },
      "execution_count": null,
      "outputs": []
    },
    {
      "cell_type": "code",
      "source": [
        "from sklearn import preprocessing\n",
        "X = preprocessing.StandardScaler().fit(X).transform(X)\n",
        "\n",
        "from sklearn.model_selection import train_test_split\n",
        "X_train, X_test, y_train, y_test = train_test_split(X, y, test_size=0.3, random_state=10)\n",
        "\n",
        "from sklearn import tree\n",
        "tree_model = tree.DecisionTreeClassifier(criterion='entropy', max_depth=5)\n",
        "tree_model.fit(X_train, y_train)\n",
        "y_hat = tree_model.predict(X_test)\n",
        "\n",
        "from sklearn import metrics\n",
        "matrix = metrics.confusion_matrix(y_test, y_hat)\n",
        "print(matrix)\n",
        "\n",
        "report = metrics.classification_report(y_test, y_hat)\n",
        "print(report)"
      ],
      "metadata": {
        "id": "DeRAWu3UypVV"
      },
      "execution_count": null,
      "outputs": []
    },
    {
      "cell_type": "code",
      "source": [
        "#그레디언트 부스팅"
      ],
      "metadata": {
        "id": "nPHSGAnBmgbF"
      },
      "execution_count": null,
      "outputs": []
    },
    {
      "cell_type": "code",
      "source": [
        "from sklearn.ensemble import GradientBoostingClassifier\n",
        "# 기본값은 max_depth= 3, n_estimators=100, learning_rate = 0.1\n",
        "\n",
        "gbrt = GradientBoostingClassifier(random_state=0)\n",
        "gbrt.fit(X_train, y_train)"
      ],
      "metadata": {
        "id": "fp1mAeMC0zvH"
      },
      "execution_count": null,
      "outputs": []
    },
    {
      "cell_type": "code",
      "source": [
        "print(\"학습용 데이터 세트 정확도: {:.3f}\".format(gbrt.score(X_train, y_train)))\n",
        "print(\"시험용 데이터 세트 정확도: {:.3f}\".format(gbrt.score(X_test, y_test)))"
      ],
      "metadata": {
        "id": "chJ4Hsae8A6R"
      },
      "execution_count": null,
      "outputs": []
    },
    {
      "cell_type": "code",
      "source": [
        "#학습용 데이터 세트의 정확도가 73퍼센트이기 때문에 과적합은 아닙니다\n"
      ],
      "metadata": {
        "id": "HW2tZesLnBOQ"
      },
      "execution_count": null,
      "outputs": []
    },
    {
      "cell_type": "markdown",
      "source": [
        "주요 변수 설명\n"
      ],
      "metadata": {
        "id": "By2MNuMQnrPJ"
      }
    },
    {
      "cell_type": "code",
      "source": [
        "#주요 변수 설명\n",
        "result = tree.feature_importances_\n",
        "print(\"변수의 중요도:\\n\", result)\n",
        "#0은 중요 X, 1에 가까울수록 중요 "
      ],
      "metadata": {
        "id": "zJqW1e7UnONL"
      },
      "execution_count": null,
      "outputs": []
    },
    {
      "cell_type": "code",
      "source": [
        "import numpy as np\n",
        "\n",
        "def plot_feature_importances_hd2(model):\n",
        "    plt.rcParams[\"figure.figsize\"] = (9,6)\n",
        "    n_features = len(X_train.columns[0:]) \n",
        "    plt.barh(np.arange(n_features), model.feature_importances_, align='center') \n",
        "    plt.yticks(np.arange(n_features), X_train.columns[0:]) \n",
        "    plt.xlabel(\"feature importance\")\n",
        "    plt.ylabel(\"feature\")\n",
        "    plt.ylim(-1, n_features) \n",
        "\n",
        "plot_feature_importances_hd2(tree)"
      ],
      "metadata": {
        "id": "HtFGNdPbnRWn"
      },
      "execution_count": null,
      "outputs": []
    }
  ]
}